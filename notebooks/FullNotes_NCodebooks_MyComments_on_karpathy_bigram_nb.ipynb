{
 "cells": [
  {
   "cell_type": "markdown",
   "metadata": {},
   "source": [
    "* Karpathy video: https://www.youtube.com/watch?v=kCc8FmEb1nY\n",
    "* Karpathy repo: https://github.com/karpathy/nanoGPT\n",
    "* Colab for video: https://colab.research.google.com/drive/1JMLa53HDuA-i7ZBmqV7ZnA3c_fvtXnx-?usp=sharing"
   ]
  },
  {
   "cell_type": "markdown",
   "metadata": {
    "id": "TT5iM-Dq6J1A"
   },
   "source": [
    "# Setup:"
   ]
  },
  {
   "cell_type": "code",
   "execution_count": 1,
   "metadata": {},
   "outputs": [
    {
     "name": "stdout",
     "output_type": "stream",
     "text": [
      "--2023-11-26 10:45:23--  https://storage.googleapis.com/magentadata/datasets/maestro/v3.0.0/maestro-v3.0.0-midi.zip\n",
      "Resolving storage.googleapis.com (storage.googleapis.com)... 74.125.136.207, 172.253.124.207, 142.250.105.207, ...\n",
      "Connecting to storage.googleapis.com (storage.googleapis.com)|74.125.136.207|:443... connected.\n",
      "HTTP request sent, awaiting response... 304 Not Modified\n",
      "File ‘maestro-v3.0.0-midi.zip’ not modified on server. Omitting download.\n",
      "\n"
     ]
    }
   ],
   "source": [
    "data_source = \"maestro\"\n",
    "\n",
    "if data_source == \"shakespeare\":\n",
    "    !wget https://raw.githubusercontent.com/karpathy/char-rnn/master/data/tinyshakespeare/input.txt\n",
    "else:\n",
    "    !wget -N https://storage.googleapis.com/magentadata/datasets/maestro/v3.0.0/maestro-v3.0.0-midi.zip\n",
    "    !unzip -n -qq maestro-v3.0.0-midi.zip"
   ]
  },
  {
   "cell_type": "code",
   "execution_count": 2,
   "metadata": {
    "colab": {
     "base_uri": "https://localhost:8080/"
    },
    "id": "XtPj8fGF6I2V",
    "outputId": "81443c6d-b3c5-43a2-f60f-d43d4f418b54"
   },
   "outputs": [],
   "source": [
    "import torch\n",
    "import torch.nn as nn\n",
    "from torch.nn import functional as F\n",
    "from glob import glob\n",
    "import pathlib\n",
    "import pretty_midi\n",
    "from tqdm import tqdm\n",
    "import numpy as np\n",
    "import random \n"
   ]
  },
  {
   "cell_type": "code",
   "execution_count": 3,
   "metadata": {},
   "outputs": [
    {
     "name": "stderr",
     "output_type": "stream",
     "text": [
      "\u001b[34m\u001b[1mwandb\u001b[0m: Currently logged in as: \u001b[33mdrscotthawley\u001b[0m. Use \u001b[1m`wandb login --relogin`\u001b[0m to force relogin\n"
     ]
    }
   ],
   "source": [
    "use_wandb = True\n",
    "if use_wandb:\n",
    "    import wandb\n",
    "    wandb.login()"
   ]
  },
  {
   "cell_type": "code",
   "execution_count": 4,
   "metadata": {
    "id": "y06bDCiX6R0C"
   },
   "outputs": [],
   "source": [
    "# Karpathy's # hyperparameters\n",
    "batch_size = 16 # how many independent sequences will we process in parallel?\n",
    "block_size = 32 # what is the maximum context length for predictions?\n",
    "max_iters = 5000\n",
    "eval_interval = 100\n",
    "learning_rate = 1e-3\n",
    "eval_iters = 200\n",
    "n_embd = 64\n",
    "n_head = 4\n",
    "n_layer = 4\n",
    "dropout = 0.0\n",
    "# ------------\n",
    "\n",
    "\n",
    "# Mine for Pitches\n",
    "# hyperparameters\n",
    "batch_size = 64 # how many independent sequences will we process in parallel?\n",
    "block_size = 256 # what is the maximum context length for predictions?\n",
    "max_iters = 5000\n",
    "eval_interval = 100\n",
    "learning_rate = 1e-3\n",
    "eval_iters = 200\n",
    "n_embd = 128 # 64\n",
    "n_head = 8 # 4\n",
    "n_layer = 4 * 4\n",
    "dropout = 0.1\n",
    "\n",
    "\n",
    "# Mine for Full notes? \n",
    "# hyperparameters\n",
    "batch_size = 96 # how many independent sequences will we process in parallel?\n",
    "block_size = 256 # what is the maximum context length for predictions?\n",
    "max_iters = 5000\n",
    "eval_interval = 100\n",
    "#learning_rate = 1e-3\n",
    "learning_rate = 3e-3\n",
    "eval_iters = 200\n",
    "n_embd = 128 # 64\n",
    "n_head = 8 # 4\n",
    "n_layer = 4 * 4\n",
    "dropout = 0.1\n",
    "\n",
    "# for comparison with giant_model code\n",
    "batch_size = 128 # how many independent sequences will we process in parallel?\n",
    "block_size = 128 # what is the maximum context length for predictions?\n",
    "n_embd = 64 # 64  # dimensions of embeddings\n",
    "n_head = 8 # 4\n",
    "n_layer = 4 # # 4\n",
    "dropout = 0.1 #0.1\n",
    "max_iters = 25000\n",
    "eval_interval = 100\n",
    "eval_iters = 100\n",
    "use_alibi = True\n",
    "\n",
    "\n",
    "config = {\n",
    "  'learning_rate': learning_rate,\n",
    "  'batch_size': batch_size,\n",
    "  'block_size': block_size,\n",
    "  'n_embd': n_embd,\n",
    "  'n_head': n_head,\n",
    "  'n_layer': n_layer,\n",
    "  'dropout': dropout\n",
    "}"
   ]
  },
  {
   "cell_type": "code",
   "execution_count": 5,
   "metadata": {},
   "outputs": [
    {
     "name": "stdout",
     "output_type": "stream",
     "text": [
      "device = cuda:0\n"
     ]
    }
   ],
   "source": [
    "device = 'cuda:0' if torch.cuda.is_available() else 'cpu'\n",
    "\n",
    "print('device =',device) "
   ]
  },
  {
   "cell_type": "markdown",
   "metadata": {
    "id": "2QlkM3xo6WhL"
   },
   "source": [
    "# Dataset creation"
   ]
  },
  {
   "cell_type": "code",
   "execution_count": 6,
   "metadata": {},
   "outputs": [
    {
     "data": {
      "text/plain": [
       "1276"
      ]
     },
     "execution_count": 6,
     "metadata": {},
     "output_type": "execute_result"
    }
   ],
   "source": [
    "notes_list = torch.load('maestro3_tensor_list_quant.pt')  # load from previous computation\n",
    "#notes_list = torch.load('rastro-120bpm_16th_tensor_list.pt')  # load from previous computation\n",
    "len(notes_list)"
   ]
  },
  {
   "cell_type": "code",
   "execution_count": 7,
   "metadata": {},
   "outputs": [
    {
     "data": {
      "text/plain": [
       "(torch.Size([7041440, 3]), torch.Size([7041440]))"
      ]
     },
     "execution_count": 7,
     "metadata": {},
     "output_type": "execute_result"
    }
   ],
   "source": [
    "def tl_to_notes(tensor_list, shuffle=False, delimit=True):\n",
    "  \"list of tensors (of arbitrary length, for each song) converted to one big long tensor of notes all running togehter\"\n",
    "  if shuffle:random.shuffle(tensor_list)\n",
    "  if delimit:\n",
    "    delimiter = torch.zeros(3)  # use all zeros to show ends of songs\n",
    "    tensor_list = [element for item in tensor_list for element in (item, delimiter)]\n",
    "  return torch.vstack(tensor_list).type(torch.float32)  # return one big tensor of floats\n",
    "\n",
    "all_notes = tl_to_notes(notes_list, shuffle=True) \n",
    "all_pitches = all_notes[:,0].type(torch.long)  # just the pitch info\n",
    "all_notes.shape, all_pitches.shape"
   ]
  },
  {
   "cell_type": "code",
   "execution_count": 8,
   "metadata": {},
   "outputs": [],
   "source": [
    "# @title Tensor to MIDI Display Code\n",
    "import pandas as pd\n",
    "import numpy as np\n",
    "import matplotlib.pyplot as plt\n",
    "from typing import Optional\n",
    "from IPython.display import Audio, display\n",
    "\n",
    "def notes_arr_to_df(notes_arr) -> pd.DataFrame:\n",
    "    columns = ['pitch','step','duration']\n",
    "    df = pd.DataFrame(notes_arr, columns=columns)\n",
    "    df[\"start\"] = \"\"\n",
    "    df[\"end\"] = \"\"\n",
    "\n",
    "    prev_start = 0\n",
    "    #for i, row in tqdm(df.iterrows(), total=df.shape[0]):\n",
    "    for i, row in df.iterrows():\n",
    "        start = prev_start + float(row['step'])\n",
    "        df.at[i, 'start'] = start\n",
    "        df.at[i, 'end'] = start + float(row['duration'])\n",
    "        prev_start = start\n",
    "    return df\n",
    "\n",
    "def df_to_midi(\n",
    "        notes_df: pd.DataFrame,\n",
    "        out_file: str = '',  # output file to save to, if any\n",
    "        instrument_name: str = 'Acoustic Grand Piano', # whatever you want to call this instrument\n",
    "        velocity: int = 100,  # note loudness\n",
    "    ) -> pretty_midi.PrettyMIDI:\n",
    "    \"converts a dataframe to valid midi\"\n",
    "\n",
    "    pm = pretty_midi.PrettyMIDI()\n",
    "    instrument = pretty_midi.Instrument(\n",
    "        program=pretty_midi.instrument_name_to_program(\n",
    "            instrument_name))\n",
    "\n",
    "    prev_start = 0\n",
    "    for i, note in notes_df.iterrows(): # this is a serial operation, not sure how to parallelize\n",
    "        start = float(prev_start + note['step'])\n",
    "        end = float(start + note['duration'])\n",
    "        note = pretty_midi.Note(\n",
    "            velocity=velocity,\n",
    "            pitch=int(note['pitch']),\n",
    "            start=start,\n",
    "            end=end,\n",
    "        )\n",
    "        instrument.notes.append(note)\n",
    "        prev_start = start\n",
    "\n",
    "    pm.instruments.append(instrument)\n",
    "    if out_file: pm.write(out_file)\n",
    "    return pm\n",
    "\n",
    "def plot_piano_roll(notes_df: pd.DataFrame, count: Optional[int] = None):\n",
    "    \"produce a piano roll plot\"\n",
    "    if count:\n",
    "        title = f'First {count} notes'\n",
    "    else:\n",
    "        title = f'Whole track'\n",
    "        count = len(notes_df['pitch'])\n",
    "    plt.figure(figsize=(20, 4))\n",
    "    plot_pitch = np.stack([notes_df['pitch'], notes_df['pitch']], axis=0)\n",
    "    plot_start_stop = np.stack([notes_df['start'], notes_df['end']], axis=0)\n",
    "    plt.plot(\n",
    "        plot_start_stop[:, :count], plot_pitch[:, :count], color=\"b\", marker=\".\")\n",
    "    plt.xlabel('Time [s]')\n",
    "    plt.ylabel('Pitch')\n",
    "    ax = plt.gca()\n",
    "    ax.set_ylim([0, vocab_size])\n",
    "    _ = plt.title(title)\n",
    "    plt.show()\n",
    "\n",
    "\n",
    "def midi_to_audio(pm: pretty_midi.PrettyMIDI, seconds=30, sr=16000):\n",
    "    \"midi to audio, playable in notebook\"\n",
    "    waveform = pm.fluidsynth(fs=float(sr))\n",
    "    # Take a sample of the generated waveform to mitigate kernel resets\n",
    "    waveform_short = waveform[:seconds*sr] if seconds is not None else waveform\n",
    "    return display(Audio(waveform_short, rate=sr))\n",
    "\n",
    "def pitches_to_midi(pitch_list, seconds=30):\n",
    "    notes_tensor = torch.zeros((len(pitch_list), 3)) + 0.25\n",
    "    for i, p in enumerate(pitch_list):\n",
    "        notes_tensor[i,0] = p\n",
    "    notes_df = notes_arr_to_df(notes_tensor.cpu().detach().numpy())\n",
    "    midi = df_to_midi(notes_df)\n",
    "    plot_piano_roll(notes_df)\n",
    "    audio_display = midi_to_audio(midi, seconds=seconds)\n",
    "    return audio_display\n",
    "\n",
    "def notes_to_midi(notes_tensor, seconds=30, time_rescale=None):\n",
    "    notes_tensor = notes_tensor.clone() # just to avoid weird overwrites of memory\n",
    "    #notes_tensor = notes_tensor * (notes_tensor>0)  # negative numbers clipped to zero\n",
    "    if notes_tensor.min() < 0.0:\n",
    "      print(\"WARNING: You have negative pitches, steps or durations. Setting them to zero\")\n",
    "      notes_tensor = notes_tensor * (notes_tensor >= 0)\n",
    "    if time_rescale is not None :\n",
    "        notes_tensor[:,1:] = notes_tensor[:,1:] *time_rescale # no quantization, just rescaling time\n",
    "    notes_df = notes_arr_to_df(notes_tensor.cpu().detach().numpy())\n",
    "    midi = df_to_midi(notes_df)\n",
    "    plot_piano_roll(notes_df)\n",
    "    audio_display = midi_to_audio(midi, seconds=seconds)\n",
    "    return audio_display"
   ]
  },
  {
   "cell_type": "code",
   "execution_count": 9,
   "metadata": {},
   "outputs": [
    {
     "data": {
      "text/plain": [
       "(torch.Size([78800, 3]), torch.Size([78800]))"
      ]
     },
     "execution_count": 9,
     "metadata": {},
     "output_type": "execute_result"
    }
   ],
   "source": [
    "all_notes = torch.load('jsb_tensor_rests.pt') \n",
    "all_pitches = all_notes[:,0].type(torch.long)  # just the pitch info\n",
    "all_notes.shape, all_pitches.shape"
   ]
  },
  {
   "cell_type": "markdown",
   "metadata": {},
   "source": [
    "## Codebook creation"
   ]
  },
  {
   "cell_type": "code",
   "execution_count": 10,
   "metadata": {},
   "outputs": [
    {
     "name": "stdout",
     "output_type": "stream",
     "text": [
      "raw_data.shape = torch.Size([78800, 3])\n",
      "n_codebooks = 3\n",
      "--- cb 0: cb keys = dict_keys([0, 1, 2, 3, 4, 5, 6, 7, 8, 9, 10, 11, 12, 13, 14, 15, 16, 17, 18, 19, 20, 21, 22, 23, 24, 25, 26, 27, 28, 29, 30, 31, 32, 33, 34, 35, 36, 37, 38, 39, 40, 41, 42, 43, 44, 45, 46, 47, 48, 49, 50, 51, 52, 53, 54, 55, 56, 57, 58, 59, 60, 61, 62, 63, 64, 65, 66, 67, 68, 69, 70, 71, 72, 73, 74, 75, 76, 77, 78, 79, 80, 81, 82, 83, 84, 85, 86, 87, 88, 89, 90, 91, 92, 93, 94, 95, 96, 97, 98, 99, 100, 101, 102, 103, 104, 105, 106, 107, 108, 109, 110, 111, 112, 113, 114, 115, 116, 117, 118, 119, 120, 121, 122, 123, 124, 125, 126, 127])\n",
      "--- cb 1: cb keys = dict_keys([0.0, 0.11999999731779099, 0.23999999463558197, 0.36000001430511475, 0.47999998927116394, 0.6000000238418579, 0.7200000286102295, 0.8399999737739563, 0.9599999785423279, 1.0800000429153442, 1.2000000476837158, 1.3200000524520874, 1.440000057220459, 1.559999942779541, 1.6799999475479126, 1.7999999523162842, 1.9199999570846558, 2.0399999618530273, 2.1600000858306885, 2.4000000953674316, 2.5199999809265137, 2.640000104904175, 2.880000114440918, 3.119999885559082, 3.240000009536743, 3.359999895095825, 3.5999999046325684, 3.8399999141693115, 4.079999923706055, 4.320000171661377, 4.559999942779541, 4.679999828338623, 4.800000190734863, 5.039999961853027, 5.28000020980835, 5.519999980926514, 5.760000228881836, 6.239999771118164, 6.71999979019165, 7.199999809265137, 7.679999828338623, 8.640000343322754, 9.600000381469727, 10.800000190734863, 11.520000457763672, 17.280000686645508, 36.0, 37.0, 38.0, 39.0, 40.0, 41.0, 42.0, 43.0, 44.0, 45.0, 46.0, 47.0, 48.0, 49.0, 50.0, 51.0, 52.0, 53.0, 54.0, 55.0, 56.0, 57.0, 58.0, 59.0, 60.0, 61.0, 62.0, 63.0, 64.0, 65.0, 66.0, 67.0, 68.0, 69.0, 70.0, 71.0, 72.0, 73.0, 74.0, 75.0, 76.0, 77.0, 78.0, 79.0, 80.0, 81.0, 127.0])\n",
      "--- cb 2: cb keys = dict_keys([0.0, 0.11999999731779099, 0.23999999463558197, 0.36000001430511475, 0.47999998927116394, 0.6000000238418579, 0.7200000286102295, 0.8399999737739563, 0.9599999785423279, 1.0800000429153442, 1.2000000476837158, 1.3200000524520874, 1.440000057220459, 1.559999942779541, 1.6799999475479126, 1.7999999523162842, 1.9199999570846558, 2.0399999618530273, 2.1600000858306885, 2.4000000953674316, 2.5199999809265137, 2.640000104904175, 2.880000114440918, 3.119999885559082, 3.240000009536743, 3.359999895095825, 3.5999999046325684, 3.8399999141693115, 4.079999923706055, 4.320000171661377, 4.559999942779541, 4.679999828338623, 4.800000190734863, 5.039999961853027, 5.28000020980835, 5.519999980926514, 5.760000228881836, 6.239999771118164, 6.71999979019165, 7.199999809265137, 7.679999828338623, 8.640000343322754, 9.600000381469727, 10.800000190734863, 11.520000457763672, 17.280000686645508, 36.0, 37.0, 38.0, 39.0, 40.0, 41.0, 42.0, 43.0, 44.0, 45.0, 46.0, 47.0, 48.0, 49.0, 50.0, 51.0, 52.0, 53.0, 54.0, 55.0, 56.0, 57.0, 58.0, 59.0, 60.0, 61.0, 62.0, 63.0, 64.0, 65.0, 66.0, 67.0, 68.0, 69.0, 70.0, 71.0, 72.0, 73.0, 74.0, 75.0, 76.0, 77.0, 78.0, 79.0, 80.0, 81.0, 127.0])\n",
      "vocab_sizes =  [128, 93, 93]\n"
     ]
    },
    {
     "data": {
      "text/plain": [
       "128"
      ]
     },
     "execution_count": 10,
     "metadata": {},
     "output_type": "execute_result"
    }
   ],
   "source": [
    "#chars = list(text)\n",
    "# data here.\n",
    "#raw_data = torch.tensor([ord(c) for c in chars],dtype=torch.int32).unsqueeze(1) # sadly torch has no char dtype\n",
    "#raw_data = np.array(list(all_pitches))[:,np.newaxis] # but numpy does\n",
    "raw_data = all_pitches.unsqueeze(-1)\n",
    "raw_data = all_notes\n",
    "print(\"raw_data.shape =\",raw_data.shape)\n",
    "n_codebooks = raw_data.shape[-1]\n",
    "print(\"n_codebooks =\",n_codebooks)\n",
    "codebooks = []\n",
    "for i in range(n_codebooks): \n",
    "    #cb_vals = sorted(set(raw_data[:,i]))\n",
    "    cb_vals = raw_data.unique().sort()[0] if i>0 else torch.arange(128)  # use all possible pitches \n",
    "    #print(f\"cb {i}: cb_vals = {cb_vals}\")\n",
    "    codebooks.append({'encode':{k.item(): int(v) for v, k in enumerate(cb_vals)}, \n",
    "                      'decode':{int(v): k for v, k in enumerate(cb_vals)}})\n",
    "    print(f\"--- cb {i}: cb keys = {codebooks[-1]['encode'].keys()}\")\n",
    "vocab_sizes = [len(cb['encode']) for cb in codebooks]\n",
    "print(\"vocab_sizes = \",vocab_sizes)\n",
    "vocab_size = vocab_sizes[0]\n",
    "vocab_size"
   ]
  },
  {
   "cell_type": "markdown",
   "metadata": {},
   "source": [
    "Encoder and decoder"
   ]
  },
  {
   "cell_type": "code",
   "execution_count": 11,
   "metadata": {},
   "outputs": [
    {
     "name": "stdout",
     "output_type": "stream",
     "text": [
      "test_str = tensor([[127.0000,   0.0000,   0.9600],\n",
      "        [ 58.0000,   0.9600,   0.7200],\n",
      "        [ 65.0000,   0.0000,   0.4800],\n",
      "        [ 70.0000,   0.0000,   0.9600],\n",
      "        [ 74.0000,   0.0000,   0.4800],\n",
      "        [ 55.0000,   0.4800,   0.4800]])\n",
      "Checks pass! :-)\n"
     ]
    }
   ],
   "source": [
    "#these are slow and could be improved a lot by doing all cbs at once\n",
    "#encode = lambda s: torch.tensor( [[codebooks[cb]['encode'][note[cb].item()] for cb in range(n_codebooks)] for note in s], dtype=torch.long).to(s.device)\n",
    "        \n",
    "#decode = lambda si: torch.tensor([[codebooks[cb]['decode'][i[cb].item()]  for cb in range(n_codebooks) ] for i in si]).to(si.device)\n",
    "\n",
    "def remap_vals(s, direction, dtype=torch.long):\n",
    "    out = torch.zeros_like(s, dtype=dtype)\n",
    "    for cb in range(s.shape[-1]): \n",
    "        dict_map = codebooks[cb][direction]\n",
    "        out[:,cb] = torch.tensor([dict_map[x.item()] for x in s[:,cb]], dtype=dtype)\n",
    "    return out \n",
    "\n",
    "encode = lambda s: remap_vals(s, 'encode')\n",
    "decode = lambda s: remap_vals(s, 'decode', dtype=all_notes.dtype)\n",
    "\n",
    "\n",
    "#test_str = 'hello!'\n",
    "#test_str = [torch.tensor(q) for q in [66,32,88,0,98]]\n",
    "test_str = all_notes[0:6]\n",
    "ilist = encode(test_str)\n",
    "print(\"test_str =\",test_str)\n",
    "ret_str = decode(ilist)\n",
    "assert torch.equal(test_str, ret_str), f\"Oops. test_str={test_str}, but ret_str={ret_str}\"\n",
    "print(\"Checks pass! :-)\")"
   ]
  },
  {
   "cell_type": "code",
   "execution_count": 12,
   "metadata": {},
   "outputs": [
    {
     "name": "stdout",
     "output_type": "stream",
     "text": [
      "train_data.shape, val_data.shape = torch.Size([70920, 3]) torch.Size([7880, 3])\n"
     ]
    }
   ],
   "source": [
    "data = encode(all_notes) # this takes a while\n",
    "n = int(0.9*len(data)) # first 90% will be train, rest val\n",
    "train_data = data[:n]\n",
    "val_data = data[n:]\n",
    "print(\"train_data.shape, val_data.shape =\",train_data.shape, val_data.shape)"
   ]
  },
  {
   "cell_type": "code",
   "execution_count": 13,
   "metadata": {
    "colab": {
     "base_uri": "https://localhost:8080/"
    },
    "id": "jaAMdat36Vj4",
    "outputId": "3e0c13ca-4a17-48e3-dcd0-58eda669cd36"
   },
   "outputs": [],
   "source": [
    "torch.manual_seed(1337)\n",
    "\n",
    "\n",
    "# def augment_data(x,y): # db = datablock - a seqeunce , likely of length 1+block_size \n",
    "#     x,y = x.clone(), y.clone()  # avoid in-place alterations of data\n",
    "#     pitch_shift = torch.randint(low=-6, high=6, size=(1,1,1), dtype=torch.long).item()\n",
    "#     x[::,0] = torch.clamp(x[::,0] + pitch_shift, 0, vocab_sizes[0]-1) \n",
    "#     y[::,0] = torch.clamp(y[::,0] + pitch_shift, 0, vocab_sizes[0]-1) \n",
    "#     return x,y\n",
    "\n",
    "\n",
    "def augment_data_db(db, do_time=False, pb=12): # db = datablock - a seqeunce , likely of length 1+block_size \n",
    "    db = db.clone()  # avoid in-place alterations of data\n",
    "    #pitch_shift = torch.randint(low=-pb, high=pb, size=(1,1,1), dtype=torch.long).item()\n",
    "    db[db[:,:,0] < 127] += random.randint(-pb, pb)\n",
    "    return db  # this is sufficient\n",
    "    if False and do_time: # doesn't work. \n",
    "        time_scale = torch.randint(1, 2, (1,)) \n",
    "        db[:,:,1] = torch.where( db[:,:,0] < 127,  db[:,:,1]+pitch_shift,  db[:,:,1])\n",
    "        db[:,:,2] = torch.where( db[:,:,0] < 127,  db[:,:,2]+pitch_shift,  db[:,:,2])\n",
    "\n",
    "        \n",
    "    for i, vs in enumerate(vocab_sizes): # stay in bounds\n",
    "        print(\"i = \",i,\" db before clamp = \\n\",db)\n",
    "        db[:,:,i] = torch.clamp(db[:,:,i], 0, vs-1)\n",
    "        print(\"i = \",i,\" db after clamp = \\n\",db)\n",
    "    return db"
   ]
  },
  {
   "cell_type": "code",
   "execution_count": 14,
   "metadata": {},
   "outputs": [
    {
     "name": "stdout",
     "output_type": "stream",
     "text": [
      "original db = \n",
      " tensor([[[ 54,  12,   6],\n",
      "         [ 61,   0, 124],\n",
      "         [127,  31,   4],\n",
      "         [ 86,   0,  12],\n",
      "         [126,   7,  12]]])\n",
      "tensor([[[ 66,  24,  18],\n",
      "         [ 73,  12, 136],\n",
      "         [127,  31,   4],\n",
      "         [ 98,  12,  24],\n",
      "         [138,  19,  24]]])\n",
      "All good!\n"
     ]
    }
   ],
   "source": [
    "# test data augmentation\n",
    "db = torch.tensor([[54,12,6],[61,0,124],[127,31,4],[86,0,12],[126,7,12]]).unsqueeze(0)\n",
    "print(\"original db = \\n\",db)\n",
    "ret = augment_data_db(db) # make sure the note with the \"127\" rest is left completely alone\n",
    "print(ret)\n",
    "assert torch.equal(db[0,2,:], ret[0,2,:]),\"Those lines don't match\"\n",
    "print(\"All good!\")"
   ]
  },
  {
   "cell_type": "code",
   "execution_count": 15,
   "metadata": {
    "colab": {
     "base_uri": "https://localhost:8080/"
    },
    "id": "jaAMdat36Vj4",
    "outputId": "3e0c13ca-4a17-48e3-dcd0-58eda669cd36"
   },
   "outputs": [],
   "source": [
    "# data loading\n",
    "def get_batch(split, debug=False):\n",
    "    # generate a small batch of data of inputs x and targets y\n",
    "    data = train_data if split == 'train' else val_data\n",
    "    ix = torch.randint(len(data) - block_size, (batch_size,)) # batch_size number of indices to grab from\n",
    "    data_block = torch.stack([data[i:i+block_size+1] for i in ix])\n",
    "    if split=='train': \n",
    "        data_block = augment_data_db(data_block)\n",
    "    x, y = data_block[:,:-1,:], data_block[:,1:,:]\n",
    "    #x = torch.stack([data[i:i+block_size] for i in ix])\n",
    "    #y = torch.stack([data[i+1:i+block_size+1] for i in ix])\n",
    "    #x, y = augment_data(x,y)\n",
    "    x, y = x.to(device), y.to(device)\n",
    "    if debug: print(f\"get_batch: x.shape = {x.shape}, y.shape = {y.shape}\")\n",
    "    return x, y\n",
    "\n",
    "@torch.no_grad()\n",
    "def estimate_loss():\n",
    "    out = {}\n",
    "    model.eval()\n",
    "    for split in ['train', 'val']:\n",
    "        losses = torch.zeros(eval_iters)\n",
    "        for k in range(eval_iters):\n",
    "            X, Y = get_batch(split)\n",
    "            logits, loss = model(X, Y)\n",
    "            losses[k] = loss.item()\n",
    "        out[split] = losses.mean()\n",
    "    model.train()\n",
    "    return out"
   ]
  },
  {
   "cell_type": "code",
   "execution_count": 16,
   "metadata": {},
   "outputs": [],
   "source": [
    "#%%timeit \n",
    "#x,y = get_batch('val')\n",
    "# output: 1.55 ms ± 916 ns per loop (mean ± std. dev. of 7 runs, 1,000 loops each)"
   ]
  },
  {
   "cell_type": "code",
   "execution_count": 17,
   "metadata": {
    "colab": {
     "base_uri": "https://localhost:8080/"
    },
    "id": "p9PfGh_57IY0",
    "outputId": "814b53f0-d196-455c-9ff5-cef74e1b8a8a",
    "scrolled": true
   },
   "outputs": [
    {
     "name": "stdout",
     "output_type": "stream",
     "text": [
      "get_batch: x.shape = torch.Size([128, 128, 3]), y.shape = torch.Size([128, 128, 3])\n",
      "B, T = 128, 128\n"
     ]
    }
   ],
   "source": [
    "x,y = get_batch('train',debug=True) # first time is slow\n",
    "print(f\"B, T = {batch_size}, {block_size}\")"
   ]
  },
  {
   "cell_type": "markdown",
   "metadata": {
    "id": "4Kr70iKZ7pPd"
   },
   "source": [
    "x is a sequence"
   ]
  },
  {
   "cell_type": "code",
   "execution_count": 18,
   "metadata": {
    "colab": {
     "base_uri": "https://localhost:8080/"
    },
    "id": "ZBwJTuc17kxe",
    "outputId": "d0e6b84d-5ef6-471f-ff39-b11a29f80ccf"
   },
   "outputs": [
    {
     "data": {
      "text/plain": [
       "tensor([[ 43,  -9,  -9],\n",
       "        [ 46, -11,  -9],\n",
       "        [ 63, -11,  -7],\n",
       "        [ 45,  -9,  -9],\n",
       "        [ 48, -11,  -9],\n",
       "        [ 60, -11,  -7],\n",
       "        [ 46,  -9,  -7],\n",
       "        [ 49, -11,  -9],\n",
       "        [ 61, -11,  -7],\n",
       "        [ 53,  -9,  -9],\n",
       "        [ 58, -11,  -5],\n",
       "        [ 39,  -9,  -7],\n",
       "        [ 54, -11,  -7],\n",
       "        [ 60, -11,  -5],\n",
       "        [ 41,  -7,  -7],\n",
       "        [ 53, -11,  -9],\n",
       "        [ 57, -11,  -7],\n",
       "        [ 51,  -9,  -9],\n",
       "        [ 58, -11,  10],\n",
       "        [ 34,  -9,  -3],\n",
       "        [ 50, -11,  -1],\n",
       "        [ 53, -11,  -3],\n",
       "        [ 46,  -3,  -9],\n",
       "        [ 65, -11,  -3],\n",
       "        [ 48,  -9,  -9],\n",
       "        [ 51, -11,  -9],\n",
       "        [ 50,  -9,  -7],\n",
       "        [ 53, -11,  -9],\n",
       "        [ 46,  -9,  -9],\n",
       "        [ 51,  -9,   1],\n",
       "        [ 66, -11,  -3],\n",
       "        [ 49,  -9,  -9],\n",
       "        [ 47,  -9,  -9],\n",
       "        [ 59, -11,  -3],\n",
       "        [ 46,  -9,  -9],\n",
       "        [ 44,  -9,  -9],\n",
       "        [ 65, -11,  -3],\n",
       "        [ 41,  -9,  -9],\n",
       "        [ 46,  -9,  -7],\n",
       "        [ 50, -11,  -7],\n",
       "        [ 58, -11,  -9],\n",
       "        [ 56,  -9,  -7],\n",
       "        [ 39,  -9,  -3],\n",
       "        [ 51, -11,  -7],\n",
       "        [ 63, -11,   5],\n",
       "        [ 53,  -9,  -9],\n",
       "        [ 46,  -9,  -7],\n",
       "        [ 55, -11,  -7],\n",
       "        [ 44,  -7,  -9],\n",
       "        [ 48, -11,  -9],\n",
       "        [ 56, -11,   1],\n",
       "        [ 46,  -9,  -9],\n",
       "        [ 49, -11,  -9],\n",
       "        [ 48,  -9,  -7],\n",
       "        [ 51, -11,  -9],\n",
       "        [ 44,  -9,  -9],\n",
       "        [ 49,  -9,   1],\n",
       "        [ 65, -11,  -3],\n",
       "        [ 48,  -9,  -9],\n",
       "        [ 46,  -9,  -9],\n",
       "        [ 58, -11,  -3],\n",
       "        [ 44,  -9,  -9],\n",
       "        [ 42,  -9,  -9],\n",
       "        [ 63, -11,  -3],\n",
       "        [ 39,  -9,  -9],\n",
       "        [ 44,  -9,  -7],\n",
       "        [ 48, -11,  -7],\n",
       "        [ 56, -11,  -9],\n",
       "        [ 54,  -9,  -7],\n",
       "        [ 37,  -9,  -3],\n",
       "        [ 49, -11,  -7],\n",
       "        [ 61, -11,   1],\n",
       "        [ 51,  -9,  -9],\n",
       "        [ 44,  -9,  -7],\n",
       "        [ 53, -11,  -7],\n",
       "        [ 42,  -7,  -7],\n",
       "        [ 46, -11,  -3],\n",
       "        [ 54, -11,  -3],\n",
       "        [ 41,  -7,  -9],\n",
       "        [ 63, -11,  -7],\n",
       "        [ 39,  -9,  -9],\n",
       "        [ 45,  -9,  -9],\n",
       "        [ 48, -11,  -7],\n",
       "        [ 53, -11,  -3],\n",
       "        [ 65, -11,  -7],\n",
       "        [ 41,  -9,  -9],\n",
       "        [ 46,  -9,  -3],\n",
       "        [ 63, -11,  -9],\n",
       "        [ 61,  -9,  -9],\n",
       "        [ 40,  -9,  -7],\n",
       "        [ 55, -11,  -7],\n",
       "        [ 60, -11,  -3],\n",
       "        [ 41,  -7,  -7],\n",
       "        [ 45, -11,  -7],\n",
       "        [ 53, -11,  -9],\n",
       "        [ 51,  -9,  -7],\n",
       "        [ 46,  -9,  -7],\n",
       "        [ 58, -11,  -3],\n",
       "        [ 48,  -9,  -9],\n",
       "        [ 34,  -9,  -7],\n",
       "        [ 41, -11,  -7],\n",
       "        [ 50, -11,  -7],\n",
       "        [127,   4,   8],\n",
       "        [ 32,  -3,  -9],\n",
       "        [ 47, -11,  -9],\n",
       "        [ 51, -11,  -9],\n",
       "        [ 56, -11,  -7],\n",
       "        [ 34,  -9,  -9],\n",
       "        [ 46, -11,  -9],\n",
       "        [ 49, -11,  -9],\n",
       "        [ 35,  -9,  -9],\n",
       "        [ 44, -11,  -9],\n",
       "        [ 47, -11,  -9],\n",
       "        [ 51, -11,  -1],\n",
       "        [ 34,  -9,  -9],\n",
       "        [ 46, -11,  -9],\n",
       "        [ 49, -11,  -9],\n",
       "        [ 32,  -9,  -7],\n",
       "        [ 47, -11,  -5],\n",
       "        [ 56, -11,   1],\n",
       "        [ 40,  -7,  -3],\n",
       "        [ 46,  -9, -10],\n",
       "        [ 49, -11, -10],\n",
       "        [ 44, -10, -10],\n",
       "        [ 47, -11, -10],\n",
       "        [ 46, -10,  -9],\n",
       "        [ 49, -11,  -7],\n",
       "        [ 44,  -9,  -9]], device='cuda:0')"
      ]
     },
     "execution_count": 18,
     "metadata": {},
     "output_type": "execute_result"
    }
   ],
   "source": [
    "x[0]  # .T is to show it horizontal instead of vertical"
   ]
  },
  {
   "cell_type": "markdown",
   "metadata": {
    "id": "WP9U8aIm7qh3"
   },
   "source": [
    "y is x shifted back by one and including new data.\n",
    "in this sense only y[:,-1] is the \"next token\" being predicted."
   ]
  },
  {
   "cell_type": "code",
   "execution_count": 19,
   "metadata": {
    "colab": {
     "base_uri": "https://localhost:8080/"
    },
    "id": "5Wjb4QMS7lub",
    "outputId": "edb23f78-ccac-4d36-f6dc-2ed41e52444e"
   },
   "outputs": [
    {
     "data": {
      "text/plain": [
       "tensor([[ 46, -11,  -9],\n",
       "        [ 63, -11,  -7],\n",
       "        [ 45,  -9,  -9],\n",
       "        [ 48, -11,  -9],\n",
       "        [ 60, -11,  -7],\n",
       "        [ 46,  -9,  -7],\n",
       "        [ 49, -11,  -9],\n",
       "        [ 61, -11,  -7],\n",
       "        [ 53,  -9,  -9],\n",
       "        [ 58, -11,  -5],\n",
       "        [ 39,  -9,  -7],\n",
       "        [ 54, -11,  -7],\n",
       "        [ 60, -11,  -5],\n",
       "        [ 41,  -7,  -7],\n",
       "        [ 53, -11,  -9],\n",
       "        [ 57, -11,  -7],\n",
       "        [ 51,  -9,  -9],\n",
       "        [ 58, -11,  10],\n",
       "        [ 34,  -9,  -3],\n",
       "        [ 50, -11,  -1],\n",
       "        [ 53, -11,  -3],\n",
       "        [ 46,  -3,  -9],\n",
       "        [ 65, -11,  -3],\n",
       "        [ 48,  -9,  -9],\n",
       "        [ 51, -11,  -9],\n",
       "        [ 50,  -9,  -7],\n",
       "        [ 53, -11,  -9],\n",
       "        [ 46,  -9,  -9],\n",
       "        [ 51,  -9,   1],\n",
       "        [ 66, -11,  -3],\n",
       "        [ 49,  -9,  -9],\n",
       "        [ 47,  -9,  -9],\n",
       "        [ 59, -11,  -3],\n",
       "        [ 46,  -9,  -9],\n",
       "        [ 44,  -9,  -9],\n",
       "        [ 65, -11,  -3],\n",
       "        [ 41,  -9,  -9],\n",
       "        [ 46,  -9,  -7],\n",
       "        [ 50, -11,  -7],\n",
       "        [ 58, -11,  -9],\n",
       "        [ 56,  -9,  -7],\n",
       "        [ 39,  -9,  -3],\n",
       "        [ 51, -11,  -7],\n",
       "        [ 63, -11,   5],\n",
       "        [ 53,  -9,  -9],\n",
       "        [ 46,  -9,  -7],\n",
       "        [ 55, -11,  -7],\n",
       "        [ 44,  -7,  -9],\n",
       "        [ 48, -11,  -9],\n",
       "        [ 56, -11,   1],\n",
       "        [ 46,  -9,  -9],\n",
       "        [ 49, -11,  -9],\n",
       "        [ 48,  -9,  -7],\n",
       "        [ 51, -11,  -9],\n",
       "        [ 44,  -9,  -9],\n",
       "        [ 49,  -9,   1],\n",
       "        [ 65, -11,  -3],\n",
       "        [ 48,  -9,  -9],\n",
       "        [ 46,  -9,  -9],\n",
       "        [ 58, -11,  -3],\n",
       "        [ 44,  -9,  -9],\n",
       "        [ 42,  -9,  -9],\n",
       "        [ 63, -11,  -3],\n",
       "        [ 39,  -9,  -9],\n",
       "        [ 44,  -9,  -7],\n",
       "        [ 48, -11,  -7],\n",
       "        [ 56, -11,  -9],\n",
       "        [ 54,  -9,  -7],\n",
       "        [ 37,  -9,  -3],\n",
       "        [ 49, -11,  -7],\n",
       "        [ 61, -11,   1],\n",
       "        [ 51,  -9,  -9],\n",
       "        [ 44,  -9,  -7],\n",
       "        [ 53, -11,  -7],\n",
       "        [ 42,  -7,  -7],\n",
       "        [ 46, -11,  -3],\n",
       "        [ 54, -11,  -3],\n",
       "        [ 41,  -7,  -9],\n",
       "        [ 63, -11,  -7],\n",
       "        [ 39,  -9,  -9],\n",
       "        [ 45,  -9,  -9],\n",
       "        [ 48, -11,  -7],\n",
       "        [ 53, -11,  -3],\n",
       "        [ 65, -11,  -7],\n",
       "        [ 41,  -9,  -9],\n",
       "        [ 46,  -9,  -3],\n",
       "        [ 63, -11,  -9],\n",
       "        [ 61,  -9,  -9],\n",
       "        [ 40,  -9,  -7],\n",
       "        [ 55, -11,  -7],\n",
       "        [ 60, -11,  -3],\n",
       "        [ 41,  -7,  -7],\n",
       "        [ 45, -11,  -7],\n",
       "        [ 53, -11,  -9],\n",
       "        [ 51,  -9,  -7],\n",
       "        [ 46,  -9,  -7],\n",
       "        [ 58, -11,  -3],\n",
       "        [ 48,  -9,  -9],\n",
       "        [ 34,  -9,  -7],\n",
       "        [ 41, -11,  -7],\n",
       "        [ 50, -11,  -7],\n",
       "        [127,   4,   8],\n",
       "        [ 32,  -3,  -9],\n",
       "        [ 47, -11,  -9],\n",
       "        [ 51, -11,  -9],\n",
       "        [ 56, -11,  -7],\n",
       "        [ 34,  -9,  -9],\n",
       "        [ 46, -11,  -9],\n",
       "        [ 49, -11,  -9],\n",
       "        [ 35,  -9,  -9],\n",
       "        [ 44, -11,  -9],\n",
       "        [ 47, -11,  -9],\n",
       "        [ 51, -11,  -1],\n",
       "        [ 34,  -9,  -9],\n",
       "        [ 46, -11,  -9],\n",
       "        [ 49, -11,  -9],\n",
       "        [ 32,  -9,  -7],\n",
       "        [ 47, -11,  -5],\n",
       "        [ 56, -11,   1],\n",
       "        [ 40,  -7,  -3],\n",
       "        [ 46,  -9, -10],\n",
       "        [ 49, -11, -10],\n",
       "        [ 44, -10, -10],\n",
       "        [ 47, -11, -10],\n",
       "        [ 46, -10,  -9],\n",
       "        [ 49, -11,  -7],\n",
       "        [ 44,  -9,  -9],\n",
       "        [ 39,  -9,   5]], device='cuda:0')"
      ]
     },
     "execution_count": 19,
     "metadata": {},
     "output_type": "execute_result"
    }
   ],
   "source": [
    "y[0]"
   ]
  },
  {
   "cell_type": "markdown",
   "metadata": {
    "id": "CO7ZJhu-6dvk"
   },
   "source": [
    "# Model definition"
   ]
  },
  {
   "cell_type": "code",
   "execution_count": 20,
   "metadata": {
    "id": "zOeDesr4348z"
   },
   "outputs": [],
   "source": [
    "\n",
    "class Head(nn.Module):\n",
    "    \"\"\" one head of self-attention \"\"\"\n",
    "\n",
    "    def __init__(self, head_size):\n",
    "        super().__init__()\n",
    "        self.key = nn.Linear(n_embd, head_size, bias=False)\n",
    "        self.query = nn.Linear(n_embd, head_size, bias=False)\n",
    "        self.value = nn.Linear(n_embd, head_size, bias=False)\n",
    "        self.register_buffer('tril', torch.tril(torch.ones(block_size, block_size)))\n",
    "\n",
    "        self.dropout = nn.Dropout(dropout)\n",
    "\n",
    "    def forward(self, x):\n",
    "        B,T,C = x.shape\n",
    "        k = self.key(x)   # (B,T,C)\n",
    "        q = self.query(x) # (B,T,C)\n",
    "        # compute attention scores (\"affinities\")\n",
    "        wei = q @ k.transpose(-2,-1) * C**-0.5 # (B, T, C) @ (B, C, T) -> (B, T, T)\n",
    "        wei = wei.masked_fill(self.tril[:T, :T] == 0, float('-inf')) # (B, T, T)\n",
    "        wei = F.softmax(wei, dim=-1) # (B, T, T)\n",
    "        wei = self.dropout(wei)\n",
    "        # perform the weighted aggregation of the values\n",
    "        v = self.value(x) # (B,T,C)\n",
    "        out = wei @ v # (B, T, T) @ (B, T, C) -> (B, T, C)\n",
    "        return out\n",
    "\n",
    "class MultiHeadAttention(nn.Module):\n",
    "    \"\"\" multiple heads of self-attention in parallel \"\"\"\n",
    "\n",
    "    def __init__(self, num_heads, head_size):\n",
    "        super().__init__()\n",
    "        self.heads = nn.ModuleList([Head(head_size) for _ in range(num_heads)])\n",
    "        self.proj = nn.Linear(n_embd, n_embd)\n",
    "        self.dropout = nn.Dropout(dropout)\n",
    "\n",
    "    def forward(self, x):\n",
    "        out = torch.cat([h(x) for h in self.heads], dim=-1)\n",
    "        out = self.dropout(self.proj(out))\n",
    "        return out\n",
    "\n",
    "class FeedFoward(nn.Module):\n",
    "    \"\"\" a simple linear layer followed by a non-linearity \"\"\"\n",
    "\n",
    "    def __init__(self, n_embd):\n",
    "        super().__init__()\n",
    "        self.net = nn.Sequential(\n",
    "            nn.Linear(n_embd, 4 * n_embd),\n",
    "            nn.ReLU(),\n",
    "            nn.Linear(4 * n_embd, n_embd),\n",
    "            nn.Dropout(dropout),\n",
    "        )\n",
    "\n",
    "    def forward(self, x):\n",
    "        return self.net(x)\n",
    "\n",
    "class Block(nn.Module):\n",
    "    \"\"\" Transformer block: communication followed by computation \"\"\"\n",
    "\n",
    "    def __init__(self, n_embd, n_head):\n",
    "        # n_embd: embedding dimension, n_head: the number of heads we'd like\n",
    "        super().__init__()\n",
    "        head_size = n_embd // n_head\n",
    "        self.sa = MultiHeadAttention(n_head, head_size)\n",
    "        self.ffwd = FeedFoward(n_embd)\n",
    "        self.ln1 = nn.LayerNorm(n_embd)\n",
    "        self.ln2 = nn.LayerNorm(n_embd)\n",
    "\n",
    "    def forward(self, x):\n",
    "        x = x + self.sa(self.ln1(x))\n",
    "        x = x + self.ffwd(self.ln2(x))\n",
    "        return x\n",
    "\n",
    "# super simple bigram model\n",
    "class BigramLanguageModel(nn.Module):\n",
    "\n",
    "    def __init__(self, debug=False):\n",
    "        super().__init__()\n",
    "        # each token directly reads off the logits for the next token from a lookup table\n",
    "        print(\"vocab sizes = \",[vocab_sizes[cb] for cb in range(n_codebooks)])\n",
    "        self.token_embedding_tables = nn.ModuleList([nn.Embedding(vocab_sizes[cb], n_embd) for cb in range(n_codebooks)])\n",
    "        self.position_embedding_table = nn.Embedding(block_size, n_embd)\n",
    "        self.blocks = nn.Sequential(*[Block(n_embd, n_head=n_head) for _ in range(n_layer)])\n",
    "        self.ln_f = nn.LayerNorm(n_embd) # final layer norm\n",
    "        self.lm_heads = nn.ModuleList([nn.Linear(n_embd, vocab_sizes[cb]) for cb in range(n_codebooks)])\n",
    "        self.debug=debug\n",
    "\n",
    "    def forward(self, idx, targets=None):\n",
    "        B, T, CBS = idx.shape\n",
    "        tok_emb = 0\n",
    "        for cb in range(CBS): # just sum codebook reps\n",
    "            tok_emb = tok_emb + self.token_embedding_tables[cb](idx[:,:,cb])\n",
    "        pos_emb = self.position_embedding_table(torch.arange(T, device=device)) # (T,E)\n",
    "\n",
    "        x = tok_emb + pos_emb # (B,T,C)\n",
    "        x = self.blocks(x) # (B,T,C)\n",
    "        x = self.ln_f(x) # (B,T,C)\n",
    "        logits_list = [head(x) for head in self.lm_heads]  # list of (B,T,vocab_sizes) tensors, CBS long\n",
    "\n",
    "        if targets is None:\n",
    "            loss = None\n",
    "        else:\n",
    "            lambdas = [0.5]*CBS\n",
    "            loss = 0.0\n",
    "            for cb in range(CBS):  # loop over codebooks\n",
    "                logits = logits_list[cb]  \n",
    "                B, T, V = logits.shape   # V = vocab size\n",
    "                targ = targets[:,:,cb]   # B, T \n",
    "                logits = logits.view(B*T, V)\n",
    "                targ = targ.reshape(B*T)\n",
    "                loss = loss + lambdas[cb]*F.cross_entropy(logits, targ)\n",
    "        if self.debug: print(\"loss = \",loss.item()) \n",
    "        return logits_list, loss\n",
    "\n",
    "    def generate(self, idx, max_new_tokens):\n",
    "        # idx is (B, T) array of indices in the current context\n",
    "        for _ in range(max_new_tokens):\n",
    "            # crop idx to the last block_size tokens\n",
    "            idx_cond = idx[:, -block_size:, :]\n",
    "            # get the predictions\n",
    "            logits_list, loss = self(idx_cond)\n",
    "            idx_next_list = []\n",
    "            for cb in range(ind_cond.shape[-1]):\n",
    "                # focus only on the last time step\n",
    "                logits = logitslist[cb][:, -1] # becomes (B, C)\n",
    "                # apply softmax to get probabilities\n",
    "                probs = F.softmax(logits, dim=-1) # (B, C)\n",
    "                # sample from the distribution\n",
    "                idx_next_list.append(torch.multinomial(probs, num_samples=1)) # (B, 1)\n",
    "            idx_next = torch.tensor(idx_next_list).to(idx.device)\n",
    "            # append sampled index to the running sequence\n",
    "            idx = torch.cat((idx, idx_next), dim=1) # (B, T+1)\n",
    "        return idx\n",
    "\n"
   ]
  },
  {
   "cell_type": "markdown",
   "metadata": {
    "id": "HSUO8GJx6tpw"
   },
   "source": [
    "Instantiate and get ready to run"
   ]
  },
  {
   "cell_type": "code",
   "execution_count": 21,
   "metadata": {
    "colab": {
     "base_uri": "https://localhost:8080/"
    },
    "id": "S3yYAD0t6tOK",
    "outputId": "8b8a7edb-80c2-4efc-9f48-86ee16f0809e"
   },
   "outputs": [
    {
     "name": "stdout",
     "output_type": "stream",
     "text": [
      "vocab sizes =  [128, 93, 93]\n",
      "0.247994 M parameters\n"
     ]
    }
   ],
   "source": [
    "model = BigramLanguageModel()\n",
    "m = model.to(device)\n",
    "# print the number of parameters in the model\n",
    "print(sum(p.numel() for p in m.parameters())/1e6, 'M parameters')\n",
    "\n",
    "# create a PyTorch optimizer\n",
    "optimizer = torch.optim.AdamW(model.parameters(), lr=learning_rate)"
   ]
  },
  {
   "cell_type": "code",
   "execution_count": 22,
   "metadata": {},
   "outputs": [],
   "source": [
    "def save_checkpoint(step, model, optimizer,loss, name):\n",
    "    name = name + f'_{step}.pt'\n",
    "    print(\"Saving checkpoint to\",name)\n",
    "    torch.save({\n",
    "            'step': step,\n",
    "            'model_state_dict': model.state_dict(),\n",
    "            'optimizer_state_dict': optimizer.state_dict(),\n",
    "            'loss': loss,\n",
    "            }, name)\n",
    "\n",
    "def load_checkpoint(name, model, optimizer):\n",
    "    checkpoint = torch.load(name)\n",
    "    model.load_state_dict(checkpoint['model_state_dict'])\n",
    "    m = model.to(device)\n",
    "    optimizer.load_state_dict(checkpoint['optimizer_state_dict'])\n",
    "    step = checkpoint['step']\n",
    "    loss = checkpoint['loss']\n",
    "    return step, m, optimizer, loss"
   ]
  },
  {
   "cell_type": "markdown",
   "metadata": {
    "id": "mO4XTmlj58La"
   },
   "source": [
    "# Do training"
   ]
  },
  {
   "cell_type": "code",
   "execution_count": 23,
   "metadata": {},
   "outputs": [
    {
     "data": {
      "text/html": [
       "wandb version 0.16.0 is available!  To upgrade, please run:\n",
       " $ pip install wandb --upgrade"
      ],
      "text/plain": [
       "<IPython.core.display.HTML object>"
      ]
     },
     "metadata": {},
     "output_type": "display_data"
    },
    {
     "data": {
      "text/html": [
       "Tracking run with wandb version 0.15.12"
      ],
      "text/plain": [
       "<IPython.core.display.HTML object>"
      ]
     },
     "metadata": {},
     "output_type": "display_data"
    },
    {
     "data": {
      "text/html": [
       "Run data is saved locally in <code>/home/shawley/gpt-midi/wandb/run-20231126_104528-vw86981b</code>"
      ],
      "text/plain": [
       "<IPython.core.display.HTML object>"
      ]
     },
     "metadata": {},
     "output_type": "display_data"
    },
    {
     "data": {
      "text/html": [
       "Syncing run <strong><a href='https://wandb.ai/drscotthawley/musicbox-jsb/runs/vw86981b' target=\"_blank\">crisp-wildflower-28</a></strong> to <a href='https://wandb.ai/drscotthawley/musicbox-jsb' target=\"_blank\">Weights & Biases</a> (<a href='https://wandb.me/run' target=\"_blank\">docs</a>)<br/>"
      ],
      "text/plain": [
       "<IPython.core.display.HTML object>"
      ]
     },
     "metadata": {},
     "output_type": "display_data"
    },
    {
     "data": {
      "text/html": [
       " View project at <a href='https://wandb.ai/drscotthawley/musicbox-jsb' target=\"_blank\">https://wandb.ai/drscotthawley/musicbox-jsb</a>"
      ],
      "text/plain": [
       "<IPython.core.display.HTML object>"
      ]
     },
     "metadata": {},
     "output_type": "display_data"
    },
    {
     "data": {
      "text/html": [
       " View run at <a href='https://wandb.ai/drscotthawley/musicbox-jsb/runs/vw86981b' target=\"_blank\">https://wandb.ai/drscotthawley/musicbox-jsb/runs/vw86981b</a>"
      ],
      "text/plain": [
       "<IPython.core.display.HTML object>"
      ]
     },
     "metadata": {},
     "output_type": "display_data"
    }
   ],
   "source": [
    "if use_wandb: wandb.init(project='musicbox-jsb', config=config)"
   ]
  },
  {
   "cell_type": "code",
   "execution_count": 24,
   "metadata": {
    "colab": {
     "base_uri": "https://localhost:8080/"
    },
    "id": "YCWAxp3I57eO",
    "outputId": "3e053b8a-798c-4198-fcb5-4268afa009f5"
   },
   "outputs": [
    {
     "name": "stderr",
     "output_type": "stream",
     "text": [
      "../aten/src/ATen/native/cuda/Indexing.cu:1292: indexSelectLargeIndex: block: [111,0,0], thread: [32,0,0] Assertion `srcIndex < srcSelectDimSize` failed.\n",
      "../aten/src/ATen/native/cuda/Indexing.cu:1292: indexSelectLargeIndex: block: [111,0,0], thread: [33,0,0] Assertion `srcIndex < srcSelectDimSize` failed.\n",
      "../aten/src/ATen/native/cuda/Indexing.cu:1292: indexSelectLargeIndex: block: [111,0,0], thread: [34,0,0] Assertion `srcIndex < srcSelectDimSize` failed.\n",
      "../aten/src/ATen/native/cuda/Indexing.cu:1292: indexSelectLargeIndex: block: [111,0,0], thread: [35,0,0] Assertion `srcIndex < srcSelectDimSize` failed.\n",
      "../aten/src/ATen/native/cuda/Indexing.cu:1292: indexSelectLargeIndex: block: [111,0,0], thread: [36,0,0] Assertion `srcIndex < srcSelectDimSize` failed.\n",
      "../aten/src/ATen/native/cuda/Indexing.cu:1292: indexSelectLargeIndex: block: [111,0,0], thread: [37,0,0] Assertion `srcIndex < srcSelectDimSize` failed.\n",
      "../aten/src/ATen/native/cuda/Indexing.cu:1292: indexSelectLargeIndex: block: [111,0,0], thread: [38,0,0] Assertion `srcIndex < srcSelectDimSize` failed.\n",
      "../aten/src/ATen/native/cuda/Indexing.cu:1292: indexSelectLargeIndex: block: [111,0,0], thread: [39,0,0] Assertion `srcIndex < srcSelectDimSize` failed.\n",
      "../aten/src/ATen/native/cuda/Indexing.cu:1292: indexSelectLargeIndex: block: [111,0,0], thread: [40,0,0] Assertion `srcIndex < srcSelectDimSize` failed.\n",
      "../aten/src/ATen/native/cuda/Indexing.cu:1292: indexSelectLargeIndex: block: [111,0,0], thread: [41,0,0] Assertion `srcIndex < srcSelectDimSize` failed.\n",
      "../aten/src/ATen/native/cuda/Indexing.cu:1292: indexSelectLargeIndex: block: [111,0,0], thread: [42,0,0] Assertion `srcIndex < srcSelectDimSize` failed.\n",
      "../aten/src/ATen/native/cuda/Indexing.cu:1292: indexSelectLargeIndex: block: [111,0,0], thread: [43,0,0] Assertion `srcIndex < srcSelectDimSize` failed.\n",
      "../aten/src/ATen/native/cuda/Indexing.cu:1292: indexSelectLargeIndex: block: [111,0,0], thread: [44,0,0] Assertion `srcIndex < srcSelectDimSize` failed.\n",
      "../aten/src/ATen/native/cuda/Indexing.cu:1292: indexSelectLargeIndex: block: [111,0,0], thread: [45,0,0] Assertion `srcIndex < srcSelectDimSize` failed.\n",
      "../aten/src/ATen/native/cuda/Indexing.cu:1292: indexSelectLargeIndex: block: [111,0,0], thread: [46,0,0] Assertion `srcIndex < srcSelectDimSize` failed.\n",
      "../aten/src/ATen/native/cuda/Indexing.cu:1292: indexSelectLargeIndex: block: [111,0,0], thread: [47,0,0] Assertion `srcIndex < srcSelectDimSize` failed.\n",
      "../aten/src/ATen/native/cuda/Indexing.cu:1292: indexSelectLargeIndex: block: [111,0,0], thread: [48,0,0] Assertion `srcIndex < srcSelectDimSize` failed.\n",
      "../aten/src/ATen/native/cuda/Indexing.cu:1292: indexSelectLargeIndex: block: [111,0,0], thread: [49,0,0] Assertion `srcIndex < srcSelectDimSize` failed.\n",
      "../aten/src/ATen/native/cuda/Indexing.cu:1292: indexSelectLargeIndex: block: [111,0,0], thread: [50,0,0] Assertion `srcIndex < srcSelectDimSize` failed.\n",
      "../aten/src/ATen/native/cuda/Indexing.cu:1292: indexSelectLargeIndex: block: [111,0,0], thread: [51,0,0] Assertion `srcIndex < srcSelectDimSize` failed.\n",
      "../aten/src/ATen/native/cuda/Indexing.cu:1292: indexSelectLargeIndex: block: [111,0,0], thread: [52,0,0] Assertion `srcIndex < srcSelectDimSize` failed.\n",
      "../aten/src/ATen/native/cuda/Indexing.cu:1292: indexSelectLargeIndex: block: [111,0,0], thread: [53,0,0] Assertion `srcIndex < srcSelectDimSize` failed.\n",
      "../aten/src/ATen/native/cuda/Indexing.cu:1292: indexSelectLargeIndex: block: [111,0,0], thread: [54,0,0] Assertion `srcIndex < srcSelectDimSize` failed.\n",
      "../aten/src/ATen/native/cuda/Indexing.cu:1292: indexSelectLargeIndex: block: [111,0,0], thread: [55,0,0] Assertion `srcIndex < srcSelectDimSize` failed.\n",
      "../aten/src/ATen/native/cuda/Indexing.cu:1292: indexSelectLargeIndex: block: [111,0,0], thread: [56,0,0] Assertion `srcIndex < srcSelectDimSize` failed.\n",
      "../aten/src/ATen/native/cuda/Indexing.cu:1292: indexSelectLargeIndex: block: [111,0,0], thread: [57,0,0] Assertion `srcIndex < srcSelectDimSize` failed.\n",
      "../aten/src/ATen/native/cuda/Indexing.cu:1292: indexSelectLargeIndex: block: [111,0,0], thread: [58,0,0] Assertion `srcIndex < srcSelectDimSize` failed.\n",
      "../aten/src/ATen/native/cuda/Indexing.cu:1292: indexSelectLargeIndex: block: [111,0,0], thread: [59,0,0] Assertion `srcIndex < srcSelectDimSize` failed.\n",
      "../aten/src/ATen/native/cuda/Indexing.cu:1292: indexSelectLargeIndex: block: [111,0,0], thread: [60,0,0] Assertion `srcIndex < srcSelectDimSize` failed.\n",
      "../aten/src/ATen/native/cuda/Indexing.cu:1292: indexSelectLargeIndex: block: [111,0,0], thread: [61,0,0] Assertion `srcIndex < srcSelectDimSize` failed.\n",
      "../aten/src/ATen/native/cuda/Indexing.cu:1292: indexSelectLargeIndex: block: [111,0,0], thread: [62,0,0] Assertion `srcIndex < srcSelectDimSize` failed.\n",
      "../aten/src/ATen/native/cuda/Indexing.cu:1292: indexSelectLargeIndex: block: [111,0,0], thread: [63,0,0] Assertion `srcIndex < srcSelectDimSize` failed.\n"
     ]
    },
    {
     "ename": "RuntimeError",
     "evalue": "CUDA error: device-side assert triggered\nCUDA kernel errors might be asynchronously reported at some other API call, so the stacktrace below might be incorrect.\nFor debugging consider passing CUDA_LAUNCH_BLOCKING=1.\nCompile with `TORCH_USE_CUDA_DSA` to enable device-side assertions.\n",
     "output_type": "error",
     "traceback": [
      "\u001b[0;31m---------------------------------------------------------------------------\u001b[0m",
      "\u001b[0;31mRuntimeError\u001b[0m                              Traceback (most recent call last)",
      "Cell \u001b[0;32mIn[24], line 5\u001b[0m\n\u001b[1;32m      1\u001b[0m \u001b[38;5;28;01mfor\u001b[39;00m \u001b[38;5;28miter\u001b[39m \u001b[38;5;129;01min\u001b[39;00m \u001b[38;5;28mrange\u001b[39m(max_iters):\n\u001b[1;32m      2\u001b[0m \n\u001b[1;32m      3\u001b[0m     \u001b[38;5;66;03m# every once in a while evaluate the loss on train and val sets\u001b[39;00m\n\u001b[1;32m      4\u001b[0m     \u001b[38;5;28;01mif\u001b[39;00m \u001b[38;5;28miter\u001b[39m \u001b[38;5;241m%\u001b[39m eval_interval \u001b[38;5;241m==\u001b[39m \u001b[38;5;241m0\u001b[39m \u001b[38;5;129;01mor\u001b[39;00m \u001b[38;5;28miter\u001b[39m \u001b[38;5;241m==\u001b[39m max_iters \u001b[38;5;241m-\u001b[39m \u001b[38;5;241m1\u001b[39m:\n\u001b[0;32m----> 5\u001b[0m         losses \u001b[38;5;241m=\u001b[39m \u001b[43mestimate_loss\u001b[49m\u001b[43m(\u001b[49m\u001b[43m)\u001b[49m\n\u001b[1;32m      6\u001b[0m         \u001b[38;5;28mprint\u001b[39m(\u001b[38;5;124mf\u001b[39m\u001b[38;5;124m\"\u001b[39m\u001b[38;5;124mstep \u001b[39m\u001b[38;5;132;01m{\u001b[39;00m\u001b[38;5;28miter\u001b[39m\u001b[38;5;132;01m}\u001b[39;00m\u001b[38;5;124m: train loss \u001b[39m\u001b[38;5;132;01m{\u001b[39;00mlosses[\u001b[38;5;124m'\u001b[39m\u001b[38;5;124mtrain\u001b[39m\u001b[38;5;124m'\u001b[39m]\u001b[38;5;132;01m:\u001b[39;00m\u001b[38;5;124m.4f\u001b[39m\u001b[38;5;132;01m}\u001b[39;00m\u001b[38;5;124m, val loss \u001b[39m\u001b[38;5;132;01m{\u001b[39;00mlosses[\u001b[38;5;124m'\u001b[39m\u001b[38;5;124mval\u001b[39m\u001b[38;5;124m'\u001b[39m]\u001b[38;5;132;01m:\u001b[39;00m\u001b[38;5;124m.4f\u001b[39m\u001b[38;5;132;01m}\u001b[39;00m\u001b[38;5;124m\"\u001b[39m)\n\u001b[1;32m      7\u001b[0m         \u001b[38;5;28;01mif\u001b[39;00m use_wandb: wandb\u001b[38;5;241m.\u001b[39mlog(losses \u001b[38;5;241m|\u001b[39m {\u001b[38;5;124m'\u001b[39m\u001b[38;5;124mstep\u001b[39m\u001b[38;5;124m'\u001b[39m:\u001b[38;5;28miter\u001b[39m\u001b[38;5;241m/\u001b[39m\u001b[38;5;241m/\u001b[39meval_interval})\n",
      "File \u001b[0;32m~/envs/dlaie/lib/python3.10/site-packages/torch/utils/_contextlib.py:115\u001b[0m, in \u001b[0;36mcontext_decorator.<locals>.decorate_context\u001b[0;34m(*args, **kwargs)\u001b[0m\n\u001b[1;32m    112\u001b[0m \u001b[38;5;129m@functools\u001b[39m\u001b[38;5;241m.\u001b[39mwraps(func)\n\u001b[1;32m    113\u001b[0m \u001b[38;5;28;01mdef\u001b[39;00m \u001b[38;5;21mdecorate_context\u001b[39m(\u001b[38;5;241m*\u001b[39margs, \u001b[38;5;241m*\u001b[39m\u001b[38;5;241m*\u001b[39mkwargs):\n\u001b[1;32m    114\u001b[0m     \u001b[38;5;28;01mwith\u001b[39;00m ctx_factory():\n\u001b[0;32m--> 115\u001b[0m         \u001b[38;5;28;01mreturn\u001b[39;00m \u001b[43mfunc\u001b[49m\u001b[43m(\u001b[49m\u001b[38;5;241;43m*\u001b[39;49m\u001b[43margs\u001b[49m\u001b[43m,\u001b[49m\u001b[43m \u001b[49m\u001b[38;5;241;43m*\u001b[39;49m\u001b[38;5;241;43m*\u001b[39;49m\u001b[43mkwargs\u001b[49m\u001b[43m)\u001b[49m\n",
      "Cell \u001b[0;32mIn[15], line 25\u001b[0m, in \u001b[0;36mestimate_loss\u001b[0;34m()\u001b[0m\n\u001b[1;32m     23\u001b[0m \u001b[38;5;28;01mfor\u001b[39;00m k \u001b[38;5;129;01min\u001b[39;00m \u001b[38;5;28mrange\u001b[39m(eval_iters):\n\u001b[1;32m     24\u001b[0m     X, Y \u001b[38;5;241m=\u001b[39m get_batch(split)\n\u001b[0;32m---> 25\u001b[0m     logits, loss \u001b[38;5;241m=\u001b[39m \u001b[43mmodel\u001b[49m\u001b[43m(\u001b[49m\u001b[43mX\u001b[49m\u001b[43m,\u001b[49m\u001b[43m \u001b[49m\u001b[43mY\u001b[49m\u001b[43m)\u001b[49m\n\u001b[1;32m     26\u001b[0m     losses[k] \u001b[38;5;241m=\u001b[39m loss\u001b[38;5;241m.\u001b[39mitem()\n\u001b[1;32m     27\u001b[0m out[split] \u001b[38;5;241m=\u001b[39m losses\u001b[38;5;241m.\u001b[39mmean()\n",
      "File \u001b[0;32m~/envs/dlaie/lib/python3.10/site-packages/torch/nn/modules/module.py:1518\u001b[0m, in \u001b[0;36mModule._wrapped_call_impl\u001b[0;34m(self, *args, **kwargs)\u001b[0m\n\u001b[1;32m   1516\u001b[0m     \u001b[38;5;28;01mreturn\u001b[39;00m \u001b[38;5;28mself\u001b[39m\u001b[38;5;241m.\u001b[39m_compiled_call_impl(\u001b[38;5;241m*\u001b[39margs, \u001b[38;5;241m*\u001b[39m\u001b[38;5;241m*\u001b[39mkwargs)  \u001b[38;5;66;03m# type: ignore[misc]\u001b[39;00m\n\u001b[1;32m   1517\u001b[0m \u001b[38;5;28;01melse\u001b[39;00m:\n\u001b[0;32m-> 1518\u001b[0m     \u001b[38;5;28;01mreturn\u001b[39;00m \u001b[38;5;28;43mself\u001b[39;49m\u001b[38;5;241;43m.\u001b[39;49m\u001b[43m_call_impl\u001b[49m\u001b[43m(\u001b[49m\u001b[38;5;241;43m*\u001b[39;49m\u001b[43margs\u001b[49m\u001b[43m,\u001b[49m\u001b[43m \u001b[49m\u001b[38;5;241;43m*\u001b[39;49m\u001b[38;5;241;43m*\u001b[39;49m\u001b[43mkwargs\u001b[49m\u001b[43m)\u001b[49m\n",
      "File \u001b[0;32m~/envs/dlaie/lib/python3.10/site-packages/torch/nn/modules/module.py:1527\u001b[0m, in \u001b[0;36mModule._call_impl\u001b[0;34m(self, *args, **kwargs)\u001b[0m\n\u001b[1;32m   1522\u001b[0m \u001b[38;5;66;03m# If we don't have any hooks, we want to skip the rest of the logic in\u001b[39;00m\n\u001b[1;32m   1523\u001b[0m \u001b[38;5;66;03m# this function, and just call forward.\u001b[39;00m\n\u001b[1;32m   1524\u001b[0m \u001b[38;5;28;01mif\u001b[39;00m \u001b[38;5;129;01mnot\u001b[39;00m (\u001b[38;5;28mself\u001b[39m\u001b[38;5;241m.\u001b[39m_backward_hooks \u001b[38;5;129;01mor\u001b[39;00m \u001b[38;5;28mself\u001b[39m\u001b[38;5;241m.\u001b[39m_backward_pre_hooks \u001b[38;5;129;01mor\u001b[39;00m \u001b[38;5;28mself\u001b[39m\u001b[38;5;241m.\u001b[39m_forward_hooks \u001b[38;5;129;01mor\u001b[39;00m \u001b[38;5;28mself\u001b[39m\u001b[38;5;241m.\u001b[39m_forward_pre_hooks\n\u001b[1;32m   1525\u001b[0m         \u001b[38;5;129;01mor\u001b[39;00m _global_backward_pre_hooks \u001b[38;5;129;01mor\u001b[39;00m _global_backward_hooks\n\u001b[1;32m   1526\u001b[0m         \u001b[38;5;129;01mor\u001b[39;00m _global_forward_hooks \u001b[38;5;129;01mor\u001b[39;00m _global_forward_pre_hooks):\n\u001b[0;32m-> 1527\u001b[0m     \u001b[38;5;28;01mreturn\u001b[39;00m \u001b[43mforward_call\u001b[49m\u001b[43m(\u001b[49m\u001b[38;5;241;43m*\u001b[39;49m\u001b[43margs\u001b[49m\u001b[43m,\u001b[49m\u001b[43m \u001b[49m\u001b[38;5;241;43m*\u001b[39;49m\u001b[38;5;241;43m*\u001b[39;49m\u001b[43mkwargs\u001b[49m\u001b[43m)\u001b[49m\n\u001b[1;32m   1529\u001b[0m \u001b[38;5;28;01mtry\u001b[39;00m:\n\u001b[1;32m   1530\u001b[0m     result \u001b[38;5;241m=\u001b[39m \u001b[38;5;28;01mNone\u001b[39;00m\n",
      "Cell \u001b[0;32mIn[20], line 92\u001b[0m, in \u001b[0;36mBigramLanguageModel.forward\u001b[0;34m(self, idx, targets)\u001b[0m\n\u001b[1;32m     90\u001b[0m \u001b[38;5;28;01mfor\u001b[39;00m cb \u001b[38;5;129;01min\u001b[39;00m \u001b[38;5;28mrange\u001b[39m(CBS): \u001b[38;5;66;03m# just sum codebook reps\u001b[39;00m\n\u001b[1;32m     91\u001b[0m     tok_emb \u001b[38;5;241m=\u001b[39m tok_emb \u001b[38;5;241m+\u001b[39m \u001b[38;5;28mself\u001b[39m\u001b[38;5;241m.\u001b[39mtoken_embedding_tables[cb](idx[:,:,cb])\n\u001b[0;32m---> 92\u001b[0m pos_emb \u001b[38;5;241m=\u001b[39m \u001b[38;5;28mself\u001b[39m\u001b[38;5;241m.\u001b[39mposition_embedding_table(\u001b[43mtorch\u001b[49m\u001b[38;5;241;43m.\u001b[39;49m\u001b[43marange\u001b[49m\u001b[43m(\u001b[49m\u001b[43mT\u001b[49m\u001b[43m,\u001b[49m\u001b[43m \u001b[49m\u001b[43mdevice\u001b[49m\u001b[38;5;241;43m=\u001b[39;49m\u001b[43mdevice\u001b[49m\u001b[43m)\u001b[49m) \u001b[38;5;66;03m# (T,E)\u001b[39;00m\n\u001b[1;32m     94\u001b[0m x \u001b[38;5;241m=\u001b[39m tok_emb \u001b[38;5;241m+\u001b[39m pos_emb \u001b[38;5;66;03m# (B,T,C)\u001b[39;00m\n\u001b[1;32m     95\u001b[0m x \u001b[38;5;241m=\u001b[39m \u001b[38;5;28mself\u001b[39m\u001b[38;5;241m.\u001b[39mblocks(x) \u001b[38;5;66;03m# (B,T,C)\u001b[39;00m\n",
      "\u001b[0;31mRuntimeError\u001b[0m: CUDA error: device-side assert triggered\nCUDA kernel errors might be asynchronously reported at some other API call, so the stacktrace below might be incorrect.\nFor debugging consider passing CUDA_LAUNCH_BLOCKING=1.\nCompile with `TORCH_USE_CUDA_DSA` to enable device-side assertions.\n"
     ]
    }
   ],
   "source": [
    "for iter in range(max_iters):\n",
    "\n",
    "    # every once in a while evaluate the loss on train and val sets\n",
    "    if iter % eval_interval == 0 or iter == max_iters - 1:\n",
    "        losses = estimate_loss()\n",
    "        print(f\"step {iter}: train loss {losses['train']:.4f}, val loss {losses['val']:.4f}\")\n",
    "        if use_wandb: wandb.log(losses | {'step':iter//eval_interval})\n",
    "\n",
    "    \n",
    "    xb, yb = get_batch('train') # sample a batch of data\n",
    "    logits, loss = model(xb, yb) # evaluate the loss\n",
    "    optimizer.zero_grad(set_to_none=True)\n",
    "    loss.backward()\n",
    "    optimizer.step()\n"
   ]
  },
  {
   "cell_type": "code",
   "execution_count": null,
   "metadata": {},
   "outputs": [],
   "source": [
    "save_checkpoint(max_iters, model, optimizer,loss, f\"fullpitches_ncbs_jsb\")"
   ]
  },
  {
   "cell_type": "code",
   "execution_count": null,
   "metadata": {},
   "outputs": [],
   "source": [
    "if use_wandb: wandb.finish()"
   ]
  },
  {
   "cell_type": "markdown",
   "metadata": {
    "id": "hMVARJ7_58_U"
   },
   "source": [
    "Generate"
   ]
  },
  {
   "cell_type": "code",
   "execution_count": null,
   "metadata": {},
   "outputs": [],
   "source": [
    "\n",
    "def generator(model, idx, max_new_tokens, temperature=1.0):\n",
    "    # idx is (B, T, CBS) array of indices in the current context\n",
    "    for _ in range(max_new_tokens):\n",
    "        # crop idx to the last block_size tokens\n",
    "        idx_cond = idx[:, -block_size:]\n",
    "        # get the predictions\n",
    "        logits_list, loss = model(idx_cond)\n",
    "        idx_next_list = []\n",
    "        for cb in range(idx_cond.shape[-1]):\n",
    "            # focus only on the last time step\n",
    "            logits = logits_list[cb][:, -1, :] # becomes (B, V)\n",
    "            # apply softmax to get probabilities\n",
    "            probs = F.softmax(logits/temperature, dim=-1) # (B, V)\n",
    "            # sample from the distribution\n",
    "            idx_next_list.append(torch.multinomial(probs, num_samples=1)) # (B, 1)\n",
    "        idx_next = torch.tensor(idx_next_list).unsqueeze(0).unsqueeze(0).to(idx.device)\n",
    "        # append sampled index to the running sequence\n",
    "        \n",
    "        idx = torch.cat((idx, idx_next), dim=1) # (B, T+1)\n",
    "    return idx\n"
   ]
  },
  {
   "cell_type": "code",
   "execution_count": null,
   "metadata": {},
   "outputs": [],
   "source": [
    "ind, num = 2000, 128\n",
    "context = all_notes[ind:ind+num].clone()\n",
    "#context[:,0] = context[:,0]\n",
    "context = encode(context).to(device)\n",
    "len(context)"
   ]
  },
  {
   "cell_type": "code",
   "execution_count": null,
   "metadata": {},
   "outputs": [],
   "source": [
    "time_rescale = 1.0\n",
    "notes_to_midi(decode(context), time_rescale=time_rescale)"
   ]
  },
  {
   "cell_type": "code",
   "execution_count": null,
   "metadata": {},
   "outputs": [],
   "source": [
    "#context = torch.zeros((1, 3), dtype=torch.long, device=device)\n",
    "notes = decode( generator(model, context.unsqueeze(0), max_new_tokens=500, temperature=0.5)[0].cpu() )\n",
    "len(notes)"
   ]
  },
  {
   "cell_type": "code",
   "execution_count": null,
   "metadata": {},
   "outputs": [],
   "source": [
    "time_rescale = 1.0\n",
    "notes_to_midi(notes, time_rescale=time_rescale, seconds=None)"
   ]
  },
  {
   "cell_type": "code",
   "execution_count": null,
   "metadata": {},
   "outputs": [],
   "source": []
  }
 ],
 "metadata": {
  "colab": {
   "provenance": []
  },
  "kernelspec": {
   "display_name": "Python 3 (ipykernel)",
   "language": "python",
   "name": "python3"
  },
  "language_info": {
   "codemirror_mode": {
    "name": "ipython",
    "version": 3
   },
   "file_extension": ".py",
   "mimetype": "text/x-python",
   "name": "python",
   "nbconvert_exporter": "python",
   "pygments_lexer": "ipython3",
   "version": "3.10.12"
  }
 },
 "nbformat": 4,
 "nbformat_minor": 4
}
